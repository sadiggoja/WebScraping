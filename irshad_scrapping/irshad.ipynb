{
 "cells": [
  {
   "cell_type": "code",
   "execution_count": 107,
   "id": "finished-joseph",
   "metadata": {},
   "outputs": [],
   "source": [
    "import requests\n",
    "from bs4 import BeautifulSoup\n",
    "from csv import writer\n",
    "from time import sleep\n",
    "import pandas as pd"
   ]
  },
  {
   "cell_type": "code",
   "execution_count": 101,
   "id": "postal-brunswick",
   "metadata": {},
   "outputs": [],
   "source": [
    "base=\"https://irshad.az/az/telefon-ve-plansetler/mobil-telefonlar/?sort=1&p=\"\n",
    "irshad=\"https://irshad.az\""
   ]
  },
  {
   "cell_type": "code",
   "execution_count": null,
   "id": "driving-intersection",
   "metadata": {
    "scrolled": false
   },
   "outputs": [],
   "source": [
    "phones=[]\n",
    "for page_number in range(7):\n",
    "    response=requests.get(f\"{base}{page_number+1}\")\n",
    "    page=BeautifulSoup(response.text,\"html.parser\")\n",
    "    phone_sections=page.find_all('figure',  {'class':'pr_self'})\n",
    "    for phone in phone_sections:\n",
    "        url=f\"{irshad}{phone.a.get('href')}\"\n",
    "        print(url)\n",
    "        response=requests.get(url)\n",
    "        phone_page=BeautifulSoup(response.text, \"html.parser\")\n",
    "        details_page=phone_page.find(class_='product_details').find_all('article')\n",
    "        details=dict()\n",
    "        extras=[]\n",
    "        details['Model']=phone_page.find(class_='product_block').find('span').text\n",
    "        details['Qiymət']=phone_page.find(class_='product_block').find(class_='price').span.text\n",
    "        for detail in details_page:\n",
    "            detail_list=detail.p.text.split('\\r\\n')\n",
    "            for detail in detail_list:\n",
    "                detail=detail.replace('\\n','')\n",
    "                try:\n",
    "                    details[detail.split(':')[0]]=detail.split(':')[1]\n",
    "                except:\n",
    "                    extras.append(detail)\n",
    "        details['Əlavə xüsusiyyətlər']=extras\n",
    "        details['link']=url\n",
    "        phones.append(details)\n",
    "        print('done')\n",
    "        sleep(0.5)\n",
    "    sleep(1)"
   ]
  },
  {
   "cell_type": "code",
   "execution_count": 111,
   "id": "rotary-smooth",
   "metadata": {},
   "outputs": [],
   "source": [
    "phone_frame=pd.DataFrame(phones)"
   ]
  },
  {
   "cell_type": "code",
   "execution_count": 112,
   "id": "parallel-auckland",
   "metadata": {},
   "outputs": [],
   "source": [
    "phone_frame.to_csv('irshad_phones.csv')"
   ]
  }
 ],
 "metadata": {
  "kernelspec": {
   "display_name": "Python 3",
   "language": "python",
   "name": "python3"
  },
  "language_info": {
   "codemirror_mode": {
    "name": "ipython",
    "version": 3
   },
   "file_extension": ".py",
   "mimetype": "text/x-python",
   "name": "python",
   "nbconvert_exporter": "python",
   "pygments_lexer": "ipython3",
   "version": "3.9.2"
  }
 },
 "nbformat": 4,
 "nbformat_minor": 5
}
